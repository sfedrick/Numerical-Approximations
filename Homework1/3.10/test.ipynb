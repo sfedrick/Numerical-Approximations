{
 "cells": [
  {
   "cell_type": "code",
   "execution_count": 1,
   "metadata": {},
   "outputs": [],
   "source": [
    "import numpy as np\n",
    "from sympy import *\n",
    "from IPython.display import display\n",
    "init_printing(use_latex='mathjax')"
   ]
  },
  {
   "cell_type": "code",
   "execution_count": 2,
   "metadata": {},
   "outputs": [],
   "source": [
    "h = symbols('h',Real=True)\n",
    "#A=Matrix([[0,1,1,1,0],[0,0,h,2*h,1],[1/h,0,(h)/2,-h/2,-1],[0,0,(h**3)/6,8*(h**3)/6,((-h/2)**2)/2],[0,0,(h**4)/24,16*(h**4)/24,((-h/2)**3)/6]])                                        \n",
    "\n",
    "\n",
    "row1=[0,-1,-1,-1,0,0]\n",
    "row2=[0,0,-(h),(-2*h),-1,0]\n",
    "row3=[1,0,-((h)**2)/2,-((2*h)**2)/2,h/2,-1]\n",
    "row4=[h,0,-((h)**3)/6,-((2*h)**3)/6,-((-h/2)**2)/2,0]\n",
    "row5=[(h**2)/2,0,-((h)**4)/24,-((2*h)**4)/24,-(((-h/2))**3)/6,0]\n",
    "A=Matrix([row1,row2,row3,row4,row5])\n",
    "B=A.copy()\n",
    "B[1,1]=1000"
   ]
  },
  {
   "cell_type": "code",
   "execution_count": 3,
   "metadata": {
    "scrolled": false
   },
   "outputs": [
    {
     "data": {
      "text/latex": [
       "$\\displaystyle \\left[\\begin{matrix}c_{0}\\\\c_{1}\\\\c_{2}\\\\c_{3}\\end{matrix}\\right]$"
      ],
      "text/plain": [
       "⎡c₀⎤\n",
       "⎢  ⎥\n",
       "⎢c₁⎥\n",
       "⎢  ⎥\n",
       "⎢c₂⎥\n",
       "⎢  ⎥\n",
       "⎣c₃⎦"
      ]
     },
     "metadata": {},
     "output_type": "display_data"
    },
    {
     "data": {
      "text/latex": [
       "$\\displaystyle \\left[\\begin{matrix}1 & - h^{2} & - h^{4} & - h^{6}\\\\1 & - \\frac{h^{2}}{4} & - \\frac{h^{4}}{16} & - \\frac{h^{6}}{64}\\\\1 & - \\frac{h^{2}}{16} & - \\frac{h^{4}}{256} & - \\frac{h^{6}}{4096}\\\\1 & - \\frac{h^{2}}{64} & - \\frac{h^{4}}{4096} & - \\frac{h^{6}}{262144}\\end{matrix}\\right]$"
      ],
      "text/plain": [
       "⎡     2     4      6  ⎤\n",
       "⎢1  -h    -h     -h   ⎥\n",
       "⎢                     ⎥\n",
       "⎢     2     4      6  ⎥\n",
       "⎢   -h    -h     -h   ⎥\n",
       "⎢1  ────  ────   ──── ⎥\n",
       "⎢    4     16     64  ⎥\n",
       "⎢                     ⎥\n",
       "⎢     2     4      6  ⎥\n",
       "⎢   -h    -h     -h   ⎥\n",
       "⎢1  ────  ────   ──── ⎥\n",
       "⎢    16   256    4096 ⎥\n",
       "⎢                     ⎥\n",
       "⎢     2     4      6  ⎥\n",
       "⎢   -h    -h     -h   ⎥\n",
       "⎢1  ────  ────  ──────⎥\n",
       "⎣    64   4096  262144⎦"
      ]
     },
     "metadata": {},
     "output_type": "display_data"
    },
    {
     "data": {
      "text/latex": [
       "$\\displaystyle \\left\\{ a_{0} : - \\frac{c_{0}}{2835} + \\frac{4 c_{1}}{135} - \\frac{64 c_{2}}{135} + \\frac{4096 c_{3}}{2835}, \\  a_{1} : \\frac{4 \\left(- c_{0} + 81 c_{1} - 1104 c_{2} + 1024 c_{3}\\right)}{135 h^{2}}, \\  a_{2} : \\frac{64 \\left(c_{0} - 69 c_{1} + 324 c_{2} - 256 c_{3}\\right)}{135 h^{4}}, \\  a_{3} : \\frac{4096 \\left(- c_{0} + 21 c_{1} - 84 c_{2} + 64 c_{3}\\right)}{2835 h^{6}}\\right\\}$"
      ],
      "text/plain": [
       "⎧       c₀    4⋅c₁   64⋅c₂   4096⋅c₃      4⋅(-c₀ + 81⋅c₁ - 1104⋅c₂ + 1024⋅c₃) \n",
       "⎪a₀: - ──── + ──── - ───── + ───────, a₁: ───────────────────────────────────,\n",
       "⎨      2835   135     135      2835                           2               \n",
       "⎪                                                        135⋅h                \n",
       "⎩                                                                             \n",
       "\n",
       "     64⋅(c₀ - 69⋅c₁ + 324⋅c₂ - 256⋅c₃)      4096⋅(-c₀ + 21⋅c₁ - 84⋅c₂ + 64⋅c₃)\n",
       " a₂: ─────────────────────────────────, a₃: ──────────────────────────────────\n",
       "                        4                                      6              \n",
       "                   135⋅h                                 2835⋅h               \n",
       "                                                                              \n",
       "\n",
       "⎫\n",
       "⎪\n",
       "⎬\n",
       "⎪\n",
       "⎭"
      ]
     },
     "metadata": {},
     "output_type": "display_data"
    },
    {
     "data": {
      "text/latex": [
       "$\\displaystyle - \\frac{c_{0}}{2835} + \\frac{4 c_{1}}{135} - \\frac{64 c_{2}}{135} + \\frac{4096 c_{3}}{2835}$"
      ],
      "text/plain": [
       "   c₀    4⋅c₁   64⋅c₂   4096⋅c₃\n",
       "- ──── + ──── - ───── + ───────\n",
       "  2835   135     135      2835 "
      ]
     },
     "metadata": {},
     "output_type": "display_data"
    }
   ],
   "source": [
    "N=2\n",
    "L=2**N\n",
    "A=zeros(2**N)\n",
    "#B=zeros(2**N,1)\n",
    "B=symbols('c0:%d'%(L))\n",
    "B=Matrix(B)\n",
    "h=symbols('h',Real=True)\n",
    "for x in range(0,L):\n",
    "    for y in range(0,L):\n",
    "        if y==0:\n",
    "            I=N*100\n",
    "            A[x,y]=1\n",
    "            #B[x,0]=I\n",
    "        else:\n",
    "            A[x,y]=-(h/(2**x))**(2*y)\n",
    "System=(A.copy()).col_insert((L),B)\n",
    "x=symbols('a0:%d'%(2*L))\n",
    "display(B)\n",
    "display(A)\n",
    "ans=solve_linear_system(System,*x)\n",
    "display(ans)\n",
    "tuplex=[ans[x[0]],ans[x[L-1]]]\n",
    "display(tuplex[0])"
   ]
  },
  {
   "cell_type": "raw",
   "metadata": {},
   "source": [
    "This is for part B "
   ]
  },
  {
   "cell_type": "code",
   "execution_count": null,
   "metadata": {},
   "outputs": [],
   "source": [
    "h=-h\n",
    "row1=[0,-1,-1,-1,0,0]\n",
    "row2=[0,0,-(h),(-2*h),-1,0]\n",
    "row3=[1,0,-((h)**2)/2,-((2*h)**2)/2,h/2,-1]\n",
    "row4=[h,0,-((h)**3)/6,-((2*h)**3)/6,-((-h/2)**2)/2,0]\n",
    "row5=[(h**2)/2,0,-((h)**4)/24,-((2*h)**4)/24,-(((-h/2))**3)/6,0]\n",
    "B=Matrix([row1,row2,row3,row4,row5])"
   ]
  },
  {
   "cell_type": "code",
   "execution_count": null,
   "metadata": {},
   "outputs": [],
   "source": [
    "display(B)"
   ]
  },
  {
   "cell_type": "code",
   "execution_count": null,
   "metadata": {},
   "outputs": [],
   "source": [
    "system = B\n",
    "b, a1, a2, a3, a4 = symbols('b a1 a2 a3 a4')\n",
    "solve_linear_system(system, b,a1,a2,a3,a4)"
   ]
  },
  {
   "cell_type": "code",
   "execution_count": null,
   "metadata": {},
   "outputs": [],
   "source": [
    "h=-h"
   ]
  },
  {
   "cell_type": "raw",
   "metadata": {},
   "source": [
    "This is for part C"
   ]
  },
  {
   "cell_type": "code",
   "execution_count": null,
   "metadata": {
    "scrolled": true
   },
   "outputs": [],
   "source": [
    "\n",
    "row1=[0,0,-1,-1,-1,0]\n",
    "row2=[0,0,0,(h),-(h),0]\n",
    "row3=[1,1,0,-((h)**2)/2,-((h)**2)/2,-1]\n",
    "row4=[-h,h,0,((h)**3)/6,-((h)**3)/6,0]\n",
    "row5=[(h**2)/2,(h**2)/2,0,-((2*h)**4)/24,-((h)**4)/24,0]\n",
    "\n",
    "C=Matrix([row1,row2,row3,row4,row5])\n",
    "display(C)"
   ]
  },
  {
   "cell_type": "code",
   "execution_count": null,
   "metadata": {},
   "outputs": [],
   "source": [
    "system = C\n",
    "b1,b2, a1, a2, a3= symbols('b1 b2 a1 a2 a3 ')\n",
    "solve_linear_system(system, b1,b2,a1,a2,a3)"
   ]
  },
  {
   "cell_type": "code",
   "execution_count": null,
   "metadata": {},
   "outputs": [],
   "source": []
  }
 ],
 "metadata": {
  "celltoolbar": "Edit Metadata",
  "kernelspec": {
   "display_name": "Python 3",
   "language": "python",
   "name": "python3"
  },
  "language_info": {
   "codemirror_mode": {
    "name": "ipython",
    "version": 3
   },
   "file_extension": ".py",
   "mimetype": "text/x-python",
   "name": "python",
   "nbconvert_exporter": "python",
   "pygments_lexer": "ipython3",
   "version": "3.7.6"
  }
 },
 "nbformat": 4,
 "nbformat_minor": 4
}
