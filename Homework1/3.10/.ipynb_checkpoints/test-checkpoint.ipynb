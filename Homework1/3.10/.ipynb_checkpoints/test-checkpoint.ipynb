{
 "cells": [
  {
   "cell_type": "code",
   "execution_count": 1,
   "metadata": {},
   "outputs": [],
   "source": [
    "import numpy as np\n",
    "from sympy import *\n",
    "from IPython.display import display\n",
    "init_printing(use_latex='mathjax')"
   ]
  },
  {
   "cell_type": "code",
   "execution_count": 2,
   "metadata": {},
   "outputs": [],
   "source": [
    "h = symbols('h',Real=True)\n",
    "#A=Matrix([[0,1,1,1,0],[0,0,h,2*h,1],[1/h,0,(h)/2,-h/2,-1],[0,0,(h**3)/6,8*(h**3)/6,((-h/2)**2)/2],[0,0,(h**4)/24,16*(h**4)/24,((-h/2)**3)/6]])                                        \n",
    "\n",
    "\n",
    "row1=[0,-1,-1,-1,0,0]\n",
    "row2=[0,0,-(h),(-2*h),-1,0]\n",
    "row3=[1,0,-((h)**2)/2,-((2*h)**2)/2,h/2,-1]\n",
    "row4=[h,0,-((h)**3)/6,-((2*h)**3)/6,-((-h/2)**2)/2,0]\n",
    "row5=[(h**2)/2,0,-((h)**4)/24,-((2*h)**4)/24,-(((-h/2))**3)/6,0]\n",
    "A=Matrix([row1,row2,row3,row4,row5])\n",
    "\n"
   ]
  },
  {
   "cell_type": "code",
   "execution_count": 3,
   "metadata": {
    "scrolled": false
   },
   "outputs": [
    {
     "data": {
      "text/latex": [
       "$\\displaystyle \\left[\\begin{matrix}0 & -1 & -1 & -1 & 0 & 0\\\\0 & 0 & - h & - 2 h & -1 & 0\\\\1 & 0 & - \\frac{h^{2}}{2} & - 2 h^{2} & \\frac{h}{2} & -1\\\\h & 0 & - \\frac{h^{3}}{6} & - \\frac{4 h^{3}}{3} & - \\frac{h^{2}}{8} & 0\\\\\\frac{h^{2}}{2} & 0 & - \\frac{h^{4}}{24} & - \\frac{2 h^{4}}{3} & \\frac{h^{3}}{48} & 0\\end{matrix}\\right]$"
      ],
      "text/plain": [
       "⎡0   -1   -1     -1     0    0 ⎤\n",
       "⎢                              ⎥\n",
       "⎢0   0    -h    -2⋅h    -1   0 ⎥\n",
       "⎢                              ⎥\n",
       "⎢          2                   ⎥\n",
       "⎢        -h        2    h      ⎥\n",
       "⎢1   0   ────  -2⋅h     ─    -1⎥\n",
       "⎢         2             2      ⎥\n",
       "⎢                              ⎥\n",
       "⎢          3       3     2     ⎥\n",
       "⎢        -h    -4⋅h    -h      ⎥\n",
       "⎢h   0   ────  ──────  ────  0 ⎥\n",
       "⎢         6      3      8      ⎥\n",
       "⎢                              ⎥\n",
       "⎢ 2        4       4     3     ⎥\n",
       "⎢h       -h    -2⋅h     h      ⎥\n",
       "⎢──  0   ────  ──────   ──   0 ⎥\n",
       "⎣2        24     3      48     ⎦"
      ]
     },
     "metadata": {},
     "output_type": "display_data"
    }
   ],
   "source": [
    "display(A)"
   ]
  },
  {
   "cell_type": "code",
   "execution_count": 4,
   "metadata": {
    "scrolled": true
   },
   "outputs": [
    {
     "data": {
      "text/latex": [
       "$\\displaystyle \\left\\{ a_{1} : - \\frac{36}{23 h^{2}}, \\  a_{2} : \\frac{48}{23 h^{2}}, \\  a_{3} : - \\frac{12}{23 h^{2}}, \\  a_{4} : - \\frac{24}{23 h}, \\  b : - \\frac{11}{23}\\right\\}$"
      ],
      "text/plain": [
       "⎧     -36         48        -12       -24      -11 ⎫\n",
       "⎪a₁: ─────, a₂: ─────, a₃: ─────, a₄: ────, b: ────⎪\n",
       "⎨        2          2          2      23⋅h      23 ⎬\n",
       "⎪    23⋅h       23⋅h       23⋅h                    ⎪\n",
       "⎩                                                  ⎭"
      ]
     },
     "execution_count": 4,
     "metadata": {},
     "output_type": "execute_result"
    }
   ],
   "source": [
    "system = A\n",
    "b, a1, a2, a3, a4 = symbols('b a1 a2 a3 a4')\n",
    "solve_linear_system(system, b,a1,a2,a3,a4)\n",
    "\n"
   ]
  },
  {
   "cell_type": "code",
   "execution_count": 5,
   "metadata": {
    "scrolled": true
   },
   "outputs": [
    {
     "name": "stdout",
     "output_type": "stream",
     "text": [
      "{b: -11/23, a1: -36/(23*h**2), a2: 48/(23*h**2), a3: -12/(23*h**2), a4: -24/(23*h)}\n"
     ]
    }
   ],
   "source": [
    "#This goes into the python script I made\n",
    "X=solve_linear_system(system, b,a1,a2,a3,a4)\n",
    "print(X)"
   ]
  },
  {
   "cell_type": "raw",
   "metadata": {},
   "source": [
    "This is for part B "
   ]
  },
  {
   "cell_type": "code",
   "execution_count": 6,
   "metadata": {},
   "outputs": [],
   "source": [
    "h=-h\n",
    "row1=[0,-1,-1,-1,0,0]\n",
    "row2=[0,0,-(h),(-2*h),-1,0]\n",
    "row3=[1,0,-((h)**2)/2,-((2*h)**2)/2,h/2,-1]\n",
    "row4=[h,0,-((h)**3)/6,-((2*h)**3)/6,-((-h/2)**2)/2,0]\n",
    "row5=[(h**2)/2,0,-((h)**4)/24,-((2*h)**4)/24,-(((-h/2))**3)/6,0]\n",
    "B=Matrix([row1,row2,row3,row4,row5])"
   ]
  },
  {
   "cell_type": "code",
   "execution_count": 7,
   "metadata": {},
   "outputs": [
    {
     "data": {
      "text/latex": [
       "$\\displaystyle \\left[\\begin{matrix}0 & -1 & -1 & -1 & 0 & 0\\\\0 & 0 & h & 2 h & -1 & 0\\\\1 & 0 & - \\frac{h^{2}}{2} & - 2 h^{2} & - \\frac{h}{2} & -1\\\\- h & 0 & \\frac{h^{3}}{6} & \\frac{4 h^{3}}{3} & - \\frac{h^{2}}{8} & 0\\\\\\frac{h^{2}}{2} & 0 & - \\frac{h^{4}}{24} & - \\frac{2 h^{4}}{3} & - \\frac{h^{3}}{48} & 0\\end{matrix}\\right]$"
      ],
      "text/plain": [
       "⎡0   -1   -1     -1     0    0 ⎤\n",
       "⎢                              ⎥\n",
       "⎢0   0    h     2⋅h     -1   0 ⎥\n",
       "⎢                              ⎥\n",
       "⎢          2                   ⎥\n",
       "⎢        -h        2   -h      ⎥\n",
       "⎢1   0   ────  -2⋅h    ───   -1⎥\n",
       "⎢         2             2      ⎥\n",
       "⎢                              ⎥\n",
       "⎢          3       3     2     ⎥\n",
       "⎢         h     4⋅h    -h      ⎥\n",
       "⎢-h  0    ──    ────   ────  0 ⎥\n",
       "⎢         6      3      8      ⎥\n",
       "⎢                              ⎥\n",
       "⎢ 2        4       4     3     ⎥\n",
       "⎢h       -h    -2⋅h    -h      ⎥\n",
       "⎢──  0   ────  ──────  ────  0 ⎥\n",
       "⎣2        24     3      48     ⎦"
      ]
     },
     "metadata": {},
     "output_type": "display_data"
    }
   ],
   "source": [
    "display(B)"
   ]
  },
  {
   "cell_type": "code",
   "execution_count": 8,
   "metadata": {},
   "outputs": [
    {
     "data": {
      "text/latex": [
       "$\\displaystyle \\left\\{ a_{1} : - \\frac{36}{23 h^{2}}, \\  a_{2} : \\frac{48}{23 h^{2}}, \\  a_{3} : - \\frac{12}{23 h^{2}}, \\  a_{4} : \\frac{24}{23 h}, \\  b : - \\frac{11}{23}\\right\\}$"
      ],
      "text/plain": [
       "⎧     -36         48        -12        24      -11 ⎫\n",
       "⎪a₁: ─────, a₂: ─────, a₃: ─────, a₄: ────, b: ────⎪\n",
       "⎨        2          2          2      23⋅h      23 ⎬\n",
       "⎪    23⋅h       23⋅h       23⋅h                    ⎪\n",
       "⎩                                                  ⎭"
      ]
     },
     "execution_count": 8,
     "metadata": {},
     "output_type": "execute_result"
    }
   ],
   "source": [
    "system = B\n",
    "b, a1, a2, a3, a4 = symbols('b a1 a2 a3 a4')\n",
    "solve_linear_system(system, b,a1,a2,a3,a4)"
   ]
  },
  {
   "cell_type": "code",
   "execution_count": 9,
   "metadata": {},
   "outputs": [],
   "source": [
    "h=-h"
   ]
  },
  {
   "cell_type": "raw",
   "metadata": {},
   "source": [
    "This is for part C"
   ]
  },
  {
   "cell_type": "code",
   "execution_count": 11,
   "metadata": {
    "scrolled": true
   },
   "outputs": [
    {
     "data": {
      "text/latex": [
       "$\\displaystyle \\left[\\begin{matrix}0 & 0 & -1 & -1 & -1 & 0\\\\0 & 0 & 0 & h & - h & 0\\\\1 & 1 & 0 & - \\frac{h^{2}}{2} & - \\frac{h^{2}}{2} & -1\\\\- h & h & 0 & \\frac{h^{3}}{6} & - \\frac{h^{3}}{6} & 0\\\\\\frac{h^{2}}{2} & \\frac{h^{2}}{2} & 0 & - \\frac{2 h^{4}}{3} & - \\frac{h^{4}}{24} & 0\\end{matrix}\\right]$"
      ],
      "text/plain": [
       "⎡0   0   -1    -1     -1   0 ⎤\n",
       "⎢                            ⎥\n",
       "⎢0   0   0     h      -h   0 ⎥\n",
       "⎢                            ⎥\n",
       "⎢               2      2     ⎥\n",
       "⎢             -h     -h      ⎥\n",
       "⎢1   1   0    ────   ────  -1⎥\n",
       "⎢              2      2      ⎥\n",
       "⎢                            ⎥\n",
       "⎢               3      3     ⎥\n",
       "⎢              h     -h      ⎥\n",
       "⎢-h  h   0     ──    ────  0 ⎥\n",
       "⎢              6      6      ⎥\n",
       "⎢                            ⎥\n",
       "⎢ 2   2          4     4     ⎥\n",
       "⎢h   h       -2⋅h    -h      ⎥\n",
       "⎢──  ──  0   ──────  ────  0 ⎥\n",
       "⎣2   2         3      24     ⎦"
      ]
     },
     "metadata": {},
     "output_type": "display_data"
    }
   ],
   "source": [
    "\n",
    "row1=[0,0,-1,-1,-1,0]\n",
    "row2=[0,0,0,(h),-(h),0]\n",
    "row3=[1,1,0,-((h)**2)/2,-((h)**2)/2,-1]\n",
    "row4=[-h,h,0,((h)**3)/6,-((h)**3)/6,0]\n",
    "row5=[(h**2)/2,(h**2)/2,0,-((2*h)**4)/24,-((h)**4)/24,0]\n",
    "\n",
    "C=Matrix([row1,row2,row3,row4,row5])\n",
    "display(C)"
   ]
  },
  {
   "cell_type": "code",
   "execution_count": 12,
   "metadata": {},
   "outputs": [
    {
     "data": {
      "text/latex": [
       "$\\displaystyle \\left\\{ a_{1} : \\frac{24}{5 h^{2}}, \\  a_{2} : - \\frac{12}{5 h^{2}}, \\  a_{3} : - \\frac{12}{5 h^{2}}, \\  b_{1} : - \\frac{17}{10}, \\  b_{2} : - \\frac{17}{10}\\right\\}$"
      ],
      "text/plain": [
       "⎧     24       -12       -12       -17       -17 ⎫\n",
       "⎪a₁: ────, a₂: ────, a₃: ────, b₁: ────, b₂: ────⎪\n",
       "⎨       2         2         2       10        10 ⎬\n",
       "⎪    5⋅h       5⋅h       5⋅h                     ⎪\n",
       "⎩                                                ⎭"
      ]
     },
     "execution_count": 12,
     "metadata": {},
     "output_type": "execute_result"
    }
   ],
   "source": [
    "system = C\n",
    "b1,b2, a1, a2, a3= symbols('b1 b2 a1 a2 a3 ')\n",
    "solve_linear_system(system, b1,b2,a1,a2,a3)"
   ]
  },
  {
   "cell_type": "code",
   "execution_count": null,
   "metadata": {},
   "outputs": [],
   "source": []
  }
 ],
 "metadata": {
  "celltoolbar": "Edit Metadata",
  "kernelspec": {
   "display_name": "Python 3",
   "language": "python",
   "name": "python3"
  },
  "language_info": {
   "codemirror_mode": {
    "name": "ipython",
    "version": 3
   },
   "file_extension": ".py",
   "mimetype": "text/x-python",
   "name": "python",
   "nbconvert_exporter": "python",
   "pygments_lexer": "ipython3",
   "version": "3.7.6"
  }
 },
 "nbformat": 4,
 "nbformat_minor": 4
}
