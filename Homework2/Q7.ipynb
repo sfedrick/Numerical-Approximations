{
 "cells": [
  {
   "cell_type": "code",
   "execution_count": 2,
   "metadata": {},
   "outputs": [],
   "source": [
    "import numpy as np\n",
    "import sympy as sym\n",
    "import matplotlib.pyplot as plt\n",
    "from sympy import *\n",
    "from IPython.display import display\n",
    "x, y, z, t = symbols('x y z t')\n",
    "init_printing(use_latex='mathjax')"
   ]
  },
  {
   "cell_type": "code",
   "execution_count": 44,
   "metadata": {
    "scrolled": true
   },
   "outputs": [],
   "source": [
    "a= symbols('LR', real=True)\n",
    "b=symbols('LI', real=True)\n",
    "w=symbols('w', real=True)\n",
    "h=symbols('h', real=True)\n",
    "\n",
    "#L=a\n",
    "P1=((1/3)+(2/3)*((3/4)+(1/4)*(1+h*L)+(1/4)*h*L*(1+h*L)))\n",
    "P2=(2/3)*h*L*((3/4)+(1/4)*(1+h*L)+(1/4)*h*L*(1+h*L))\n",
    "rk3=simplify(P1+P2)"
   ]
  },
  {
   "cell_type": "markdown",
   "metadata": {},
   "source": [
    "This is the amplification factor $$y_{n+1}=\\sigma^n*y_{0}$$\n"
   ]
  },
  {
   "cell_type": "code",
   "execution_count": 45,
   "metadata": {},
   "outputs": [
    {
     "name": "stdout",
     "output_type": "stream",
     "text": [
      "amplification factor:\n"
     ]
    },
    {
     "data": {
      "text/latex": [
       "$\\displaystyle 0.166666666666667 L^{3} h^{3} + 0.5 L^{2} h^{2} + 1.0 L h + 1.0$"
      ],
      "text/plain": [
       "                   3  3        2  2                \n",
       "0.166666666666667⋅L ⋅h  + 0.5⋅L ⋅h  + 1.0⋅L⋅h + 1.0"
      ]
     },
     "metadata": {},
     "output_type": "display_data"
    }
   ],
   "source": [
    "L=symbols('L', real=True)\n",
    "print(\"amplification factor:\")\n",
    "display(rk3)"
   ]
  },
  {
   "cell_type": "markdown",
   "metadata": {},
   "source": [
    "Stability Region"
   ]
  },
  {
   "cell_type": "code",
   "execution_count": 51,
   "metadata": {
    "scrolled": true
   },
   "outputs": [
    {
     "name": "stdout",
     "output_type": "stream",
     "text": [
      "Imaginary\n"
     ]
    },
    {
     "data": {
      "text/latex": [
       "$\\displaystyle LI h \\left(- 0.166666666666667 LI^{2} h^{2} + 0.5 LR^{2} h^{2} + 1.0 LR h + 1.0\\right)$"
      ],
      "text/plain": [
       "     ⎛                      2  2         2  2                 ⎞\n",
       "LI⋅h⋅⎝- 0.166666666666667⋅LI ⋅h  + 0.5⋅LR ⋅h  + 1.0⋅LR⋅h + 1.0⎠"
      ]
     },
     "metadata": {},
     "output_type": "display_data"
    },
    {
     "name": "stdout",
     "output_type": "stream",
     "text": [
      "Real:\n"
     ]
    },
    {
     "data": {
      "text/latex": [
       "$\\displaystyle - 0.5 LI^{2} LR h^{3} - 0.5 LI^{2} h^{2} + 0.166666666666667 LR^{3} h^{3} + 0.5 LR^{2} h^{2} + 1.0 LR h + 1.0$"
      ],
      "text/plain": [
       "        2     3         2  2                       3  3         2  2          \n",
       "- 0.5⋅LI ⋅LR⋅h  - 0.5⋅LI ⋅h  + 0.166666666666667⋅LR ⋅h  + 0.5⋅LR ⋅h  + 1.0⋅LR⋅\n",
       "\n",
       "       \n",
       "h + 1.0"
      ]
     },
     "metadata": {},
     "output_type": "display_data"
    }
   ],
   "source": [
    "L=a+I*b\n",
    "P1=((1/3)+(2/3)*((3/4)+(1/4)*(1+h*L)+(1/4)*h*L*(1+h*L)))\n",
    "P2=(2/3)*h*L*((3/4)+(1/4)*(1+h*L)+(1/4)*h*L*(1+h*L))\n",
    "rk3=simplify(P1+P2)\n",
    "reals=collect(rk3.expand(complex=True),I,evaluate=false)\n",
    "print(\"Imaginary\")\n",
    "display(simplify(reals[I]))\n",
    "#print(simplify(reals[I]))\n",
    "print(\"Real:\")\n",
    "display(simplify(reals[1]))\n",
    "#print(simplify(reals[1]))\n",
    "\n"
   ]
  },
  {
   "cell_type": "markdown",
   "metadata": {},
   "source": [
    "$$\\sqrt{\\lambda_{real}^2+\\lambda_{Imaginary}^2}=1$$ Is the stability region"
   ]
  },
  {
   "cell_type": "code",
   "execution_count": 50,
   "metadata": {},
   "outputs": [
    {
     "data": {
      "text/latex": [
       "$\\displaystyle \\frac{- 0.166666666666667 h^{3} w^{3} + 1.0 h w}{- 0.5 h^{2} w^{2} + 1.0}$"
      ],
      "text/plain": [
       "                     3  3          \n",
       "- 0.166666666666667⋅h ⋅w  + 1.0⋅h⋅w\n",
       "───────────────────────────────────\n",
       "                2  2               \n",
       "         - 0.5⋅h ⋅w  + 1.0         "
      ]
     },
     "metadata": {},
     "output_type": "display_data"
    },
    {
     "name": "stdout",
     "output_type": "stream",
     "text": [
      "Phase Error\n"
     ]
    },
    {
     "data": {
      "text/latex": [
       "$\\displaystyle h w - \\frac{- 0.166666666666667 h^{3} w^{3} + 1.0 h w}{- 0.5 h^{2} w^{2} + 1.0} + \\frac{\\left(- 0.166666666666667 h^{3} w^{3} + 1.0 h w\\right)^{3}}{3 \\left(- 0.5 h^{2} w^{2} + 1.0\\right)^{3}} - \\frac{\\left(- 0.166666666666667 h^{3} w^{3} + 1.0 h w\\right)^{5}}{5 \\left(- 0.5 h^{2} w^{2} + 1.0\\right)^{5}} + \\frac{\\left(- 0.166666666666667 h^{3} w^{3} + 1.0 h w\\right)^{7}}{7 \\left(- 0.5 h^{2} w^{2} + 1.0\\right)^{7}} - \\frac{\\left(- 0.166666666666667 h^{3} w^{3} + 1.0 h w\\right)^{9}}{9 \\left(- 0.5 h^{2} w^{2} + 1.0\\right)^{9}} + \\frac{\\left(- 0.166666666666667 h^{3} w^{3} + 1.0 h w\\right)^{11}}{11 \\left(- 0.5 h^{2} w^{2} + 1.0\\right)^{11}}$"
      ],
      "text/plain": [
       "                                                                              \n",
       "                           3  3             ⎛                     3  3        \n",
       "      - 0.166666666666667⋅h ⋅w  + 1.0⋅h⋅w   ⎝- 0.166666666666667⋅h ⋅w  + 1.0⋅h\n",
       "h⋅w - ─────────────────────────────────── + ──────────────────────────────────\n",
       "                      2  2                                               3    \n",
       "               - 0.5⋅h ⋅w  + 1.0                      ⎛       2  2      ⎞     \n",
       "                                                    3⋅⎝- 0.5⋅h ⋅w  + 1.0⎠     \n",
       "\n",
       "   3                                        5                                 \n",
       "  ⎞    ⎛                     3  3          ⎞    ⎛                     3  3    \n",
       "⋅w⎠    ⎝- 0.166666666666667⋅h ⋅w  + 1.0⋅h⋅w⎠    ⎝- 0.166666666666667⋅h ⋅w  + 1\n",
       "──── - ────────────────────────────────────── + ──────────────────────────────\n",
       "                                    5                                        7\n",
       "                 ⎛       2  2      ⎞                      ⎛       2  2      ⎞ \n",
       "               5⋅⎝- 0.5⋅h ⋅w  + 1.0⎠                    7⋅⎝- 0.5⋅h ⋅w  + 1.0⎠ \n",
       "\n",
       "       7                                        9                             \n",
       "      ⎞    ⎛                     3  3          ⎞    ⎛                     3  3\n",
       ".0⋅h⋅w⎠    ⎝- 0.166666666666667⋅h ⋅w  + 1.0⋅h⋅w⎠    ⎝- 0.166666666666667⋅h ⋅w \n",
       "──────── - ────────────────────────────────────── + ──────────────────────────\n",
       "                                        9                                     \n",
       "                     ⎛       2  2      ⎞                       ⎛       2  2   \n",
       "                   9⋅⎝- 0.5⋅h ⋅w  + 1.0⎠                    11⋅⎝- 0.5⋅h ⋅w  + \n",
       "\n",
       "           11\n",
       "          ⎞  \n",
       " + 1.0⋅h⋅w⎠  \n",
       "─────────────\n",
       "    11       \n",
       "   ⎞         \n",
       "1.0⎠         "
      ]
     },
     "metadata": {},
     "output_type": "display_data"
    }
   ],
   "source": [
    "L=I*w\n",
    "P1=((1/3)+(2/3)*((3/4)+(1/4)*(1+h*L)+(1/4)*h*L*(1+h*L)))\n",
    "P2=(2/3)*h*L*((3/4)+(1/4)*(1+h*L)+(1/4)*h*L*(1+h*L))\n",
    "rk3=simplify(P1+P2)\n",
    "reals=collect(rk3.expand(complex=True),I,evaluate=false)\n",
    "t=reals[I]/reals[1]\n",
    "display(t)\n",
    "tani=t-((t**3)/3)+((t**5)/5)-((t**7)/7)+((t**9)/9)-((t**11)/11)\n",
    "phase=w*h-tani\n",
    "\n",
    "print(\"Phase Error\")\n",
    "display(phase)"
   ]
  },
  {
   "cell_type": "code",
   "execution_count": null,
   "metadata": {},
   "outputs": [],
   "source": []
  }
 ],
 "metadata": {
  "kernelspec": {
   "display_name": "Python 3",
   "language": "python",
   "name": "python3"
  },
  "language_info": {
   "codemirror_mode": {
    "name": "ipython",
    "version": 3
   },
   "file_extension": ".py",
   "mimetype": "text/x-python",
   "name": "python",
   "nbconvert_exporter": "python",
   "pygments_lexer": "ipython3",
   "version": "3.7.6"
  }
 },
 "nbformat": 4,
 "nbformat_minor": 4
}
