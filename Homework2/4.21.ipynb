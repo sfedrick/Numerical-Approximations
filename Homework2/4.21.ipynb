{
 "cells": [
  {
   "cell_type": "code",
   "execution_count": 2,
   "metadata": {},
   "outputs": [],
   "source": [
    "import numpy as np\n",
    "import sympy as sym\n",
    "from sympy import *\n",
    "from IPython.display import display\n",
    "x, y, z, t = symbols('x y z t')\n",
    "init_printing(use_latex='mathjax')\n"
   ]
  },
  {
   "cell_type": "code",
   "execution_count": 14,
   "metadata": {},
   "outputs": [
    {
     "data": {
      "text/plain": [
       "array([-9.70820394e+02, -3.99999998e-02,  3.70820394e+02])"
      ]
     },
     "metadata": {},
     "output_type": "display_data"
    }
   ],
   "source": [
    "k1=0.04\n",
    "k2=10.0\n",
    "k3=1.5*(10**3)\n",
    "c1=0.9\n",
    "c2=0.1\n",
    "c3=0\n",
    "row1=[-k1,k2*c3,k2*c2]\n",
    "row2=[k1,-k2*c3-4*k3*c2,-k2*c2]\n",
    "row3=[0,4*k3*c2,0]\n",
    "A=np.array([row1,row2,row3])\n",
    "eigval,eigvec=np.linalg.eigh(A)\n",
    "display(eigval)\n"
   ]
  },
  {
   "cell_type": "code",
   "execution_count": null,
   "metadata": {},
   "outputs": [],
   "source": []
  }
 ],
 "metadata": {
  "kernelspec": {
   "display_name": "Python 3",
   "language": "python",
   "name": "python3"
  },
  "language_info": {
   "codemirror_mode": {
    "name": "ipython",
    "version": 3
   },
   "file_extension": ".py",
   "mimetype": "text/x-python",
   "name": "python",
   "nbconvert_exporter": "python",
   "pygments_lexer": "ipython3",
   "version": "3.7.6"
  }
 },
 "nbformat": 4,
 "nbformat_minor": 4
}
