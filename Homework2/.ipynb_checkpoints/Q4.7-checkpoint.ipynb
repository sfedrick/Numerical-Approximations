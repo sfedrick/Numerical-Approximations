{
 "cells": [
  {
   "cell_type": "code",
   "execution_count": 2,
   "metadata": {},
   "outputs": [],
   "source": [
    "import numpy as np\n",
    "import sympy as sym\n",
    "from sympy import *\n",
    "from IPython.display import display\n",
    "x, y, z, t = symbols('x y z t')\n",
    "init_printing(use_latex='mathjax')"
   ]
  },
  {
   "cell_type": "code",
   "execution_count": 3,
   "metadata": {},
   "outputs": [
    {
     "data": {
      "text/latex": [
       "$\\displaystyle \\frac{- 0.166666666666667 h^{3} w^{3} + 1.0 h w}{0.0416666666666667 h^{4} w^{4} - 0.5 h^{2} w^{2} + 1}$"
      ],
      "text/plain": [
       "                       3  3             \n",
       "  - 0.166666666666667⋅h ⋅w  + 1.0⋅h⋅w   \n",
       "────────────────────────────────────────\n",
       "                    4  4        2  2    \n",
       "0.0416666666666667⋅h ⋅w  - 0.5⋅h ⋅w  + 1"
      ]
     },
     "metadata": {},
     "output_type": "display_data"
    },
    {
     "data": {
      "text/latex": [
       "$\\displaystyle \\left(0.00173611111111111 h^{8} w^{8} - 0.0138888888888889 h^{6} w^{6} - 2.22044604925031 \\cdot 10^{-16} h^{2} w^{2} + 1\\right)^{0.5}$"
      ],
      "text/plain": [
       "                                                                              \n",
       "⎛                     8  8                       6  6                         \n",
       "⎝0.00173611111111111⋅h ⋅w  - 0.0138888888888889⋅h ⋅w  - 2.22044604925031e-16⋅h\n",
       "\n",
       "         0.5\n",
       "2  2    ⎞   \n",
       " ⋅w  + 1⎠   "
      ]
     },
     "metadata": {},
     "output_type": "display_data"
    }
   ],
   "source": [
    "a= symbols('a', real=True)\n",
    "b=symbols('w', real=True)\n",
    "h=symbols('h', real=True)\n",
    "L=I*b\n",
    "\n",
    "rk4=1+(1/6)*(L*h)+(1/3)*(h*L+(1/2)*h**2*L**2+h*L+(1/2)*h**2*L**2+(1/4)*h**3*L**3)+(1/6)*(h*L+h**2*L**2+(1/2)*h**3*L**3+(1/4)*h**4*L**4)\n",
    "reals=collect(rk4.expand(complex=True),I,evaluate=false)\n",
    "t=reals[I]/reals[1]\n",
    "display(reals[I])\n",
    "display(real[1])\n",
    "tani=t-((t**3)/3)+((t**5)/5)-((t**7)/7)+((t**9)/9)-((t**11)/11)\n",
    "\n",
    "display((simplify((reals[1]**2).expand()+(reals[I]**2).expand())**0.5))\n",
    "#display(collect(simplify(tani),,evaluate=false))"
   ]
  },
  {
   "cell_type": "code",
   "execution_count": 93,
   "metadata": {},
   "outputs": [
    {
     "data": {
      "text/latex": [
       "$\\displaystyle 0.999999936$"
      ],
      "text/plain": [
       "0.999999936"
      ]
     },
     "execution_count": 93,
     "metadata": {},
     "output_type": "execute_result"
    }
   ],
   "source": [
    "\n"
   ]
  },
  {
   "cell_type": "code",
   "execution_count": null,
   "metadata": {},
   "outputs": [],
   "source": []
  }
 ],
 "metadata": {
  "kernelspec": {
   "display_name": "Python 3",
   "language": "python",
   "name": "python3"
  },
  "language_info": {
   "codemirror_mode": {
    "name": "ipython",
    "version": 3
   },
   "file_extension": ".py",
   "mimetype": "text/x-python",
   "name": "python",
   "nbconvert_exporter": "python",
   "pygments_lexer": "ipython3",
   "version": "3.7.6"
  }
 },
 "nbformat": 4,
 "nbformat_minor": 4
}
