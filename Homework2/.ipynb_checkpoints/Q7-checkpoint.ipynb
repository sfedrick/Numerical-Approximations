{
 "cells": [
  {
   "cell_type": "code",
   "execution_count": 21,
   "metadata": {},
   "outputs": [],
   "source": [
    "import numpy as np\n",
    "import sympy as sym\n",
    "import matplotlib.pyplot as plt\n",
    "from sympy import *\n",
    "from IPython.display import display\n",
    "x, y, z, t = symbols('x y z t')\n",
    "init_printing(use_latex='mathjax')"
   ]
  },
  {
   "cell_type": "code",
   "execution_count": 33,
   "metadata": {},
   "outputs": [
    {
     "name": "stdout",
     "output_type": "stream",
     "text": [
      "Imaginary\n",
      "LI*h*(-0.166666666666667*LI**2*LR*h**3 - 0.166666666666667*LI**2*h**2 + 0.166666666666667*LR**3*h**3 + 0.5*LR**2*h**2 + 1.0*LR*h + 1.0)\n",
      "Real:\n",
      "0.0416666666666667*LI**4*h**4 - 0.25*LI**2*LR**2*h**4 - 0.5*LI**2*LR*h**3 - 0.5*LI**2*h**2 + 0.0416666666666667*LR**4*h**4 + 0.166666666666667*LR**3*h**3 + 0.5*LR**2*h**2 + 1.0*LR*h + 1\n"
     ]
    }
   ],
   "source": [
    "a= symbols('LR', real=True)\n",
    "b=symbols('LI', real=True)\n",
    "h=symbols('h', real=True)\n",
    "L=a+I*b\n",
    "\n",
    "rk4=1+(1/6)*(L*h)+(1/3)*(h*L+(1/2)*h**2*L**2+h*L+(1/2)*h**2*L**2+(1/4)*h**3*L**3)+(1/6)*(h*L+h**2*L**2+(1/2)*h**3*L**3+(1/4)*h**4*L**4)\n",
    "reals=collect(rk4.expand(complex=True),I,evaluate=false)\n",
    "t=reals[I]/reals[1]\n",
    "print(\"Imaginary\")\n",
    "#display(simplify(reals[I]))\n",
    "print(simplify(reals[I]))\n",
    "print(\"Real:\")\n",
    "#display(simplify(reals[1]))\n",
    "print(simplify(reals[1]))\n",
    "#tani=t-((t**3)/3)+((t**5)/5)-((t**7)/7)+((t**9)/9)-((t**11)/11)\n",
    "\n",
    "#display((simplify((reals[1]**2).expand()+(reals[I]**2).expand())**0.5))\n",
    "#display(collect(simplify(tani),,evaluate=false))"
   ]
  },
  {
   "cell_type": "markdown",
   "metadata": {},
   "source": [
    "Adam Bashforth"
   ]
  },
  {
   "cell_type": "code",
   "execution_count": 31,
   "metadata": {},
   "outputs": [
    {
     "data": {
      "text/plain": [
       "<matplotlib.collections.PathCollection at 0x233e91eed08>"
      ]
     },
     "execution_count": 31,
     "metadata": {},
     "output_type": "execute_result"
    },
    {
     "data": {
      "image/png": "[encoded data removed]",
      "text/plain": [
       "<Figure size 432x288 with 1 Axes>"
      ]
     },
     "metadata": {
      "needs_background": "light"
     },
     "output_type": "display_data"
    }
   ],
   "source": [
    "t=np.linspace(0,2*np.pi,1000)\n",
    "theta=0+1j*t\n",
    "z=np.e**(theta)\n",
    "Amp=(z-1)/((3/2)-(1/(2*z)))\n",
    "plt.scatter(Amp.real,Amp.imag)\n"
   ]
  },
  {
   "cell_type": "code",
   "execution_count": null,
   "metadata": {},
   "outputs": [],
   "source": []
  },
  {
   "cell_type": "code",
   "execution_count": null,
   "metadata": {},
   "outputs": [],
   "source": []
  }
 ],
 "metadata": {
  "kernelspec": {
   "display_name": "Python 3",
   "language": "python",
   "name": "python3"
  },
  "language_info": {
   "codemirror_mode": {
    "name": "ipython",
    "version": 3
   },
   "file_extension": ".py",
   "mimetype": "text/x-python",
   "name": "python",
   "nbconvert_exporter": "python",
   "pygments_lexer": "ipython3",
   "version": "3.7.6"
  }
 },
 "nbformat": 4,
 "nbformat_minor": 4
}
