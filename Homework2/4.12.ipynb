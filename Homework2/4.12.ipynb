{
 "cells": [
  {
   "cell_type": "code",
   "execution_count": 1,
   "metadata": {},
   "outputs": [],
   "source": [
    "import numpy as np\n",
    "import sympy as sym\n",
    "from sympy import *\n",
    "from IPython.display import display\n",
    "x, y, z, t = symbols('x y z t')\n",
    "init_printing(use_latex='mathjax')"
   ]
  },
  {
   "cell_type": "code",
   "execution_count": 7,
   "metadata": {},
   "outputs": [
    {
     "data": {
      "text/latex": [
       "$\\displaystyle \\left[\\begin{matrix}1 & 1 & 1 & 0\\\\0 & - h & - 2 h & -1\\\\0 & \\frac{h^{2}}{2} & 2 h^{2} & 0\\end{matrix}\\right]$"
      ],
      "text/plain": [
       "⎡1  1    1    0 ⎤\n",
       "⎢               ⎥\n",
       "⎢0  -h  -2⋅h  -1⎥\n",
       "⎢               ⎥\n",
       "⎢    2          ⎥\n",
       "⎢   h      2    ⎥\n",
       "⎢0  ──  2⋅h   0 ⎥\n",
       "⎣   2           ⎦"
      ]
     },
     "metadata": {},
     "output_type": "display_data"
    },
    {
     "data": {
      "text/plain": [
       "{'a0': -3/(2*h), 'a1': 2/h, 'a2': -1/(2*h)}"
      ]
     },
     "metadata": {},
     "output_type": "display_data"
    }
   ],
   "source": [
    "h=symbols('h')\n",
    "row1=[1,1,1,0]\n",
    "row2=[0,-h,-2*h,-1]\n",
    "row3=[0,(h**2)/2,2*(h**2),0]\n",
    "A=Matrix([row1,row2,row3])\n",
    "display(A)\n",
    "S=solve_linear_system(A,'a0','a1','a2')\n",
    "display(S)"
   ]
  },
  {
   "cell_type": "code",
   "execution_count": null,
   "metadata": {},
   "outputs": [],
   "source": []
  }
 ],
 "metadata": {
  "kernelspec": {
   "display_name": "Python 3",
   "language": "python",
   "name": "python3"
  },
  "language_info": {
   "codemirror_mode": {
    "name": "ipython",
    "version": 3
   },
   "file_extension": ".py",
   "mimetype": "text/x-python",
   "name": "python",
   "nbconvert_exporter": "python",
   "pygments_lexer": "ipython3",
   "version": "3.7.6"
  }
 },
 "nbformat": 4,
 "nbformat_minor": 4
}
